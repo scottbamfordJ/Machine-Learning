{
 "cells": [
  {
   "cell_type": "code",
   "execution_count": 1,
   "metadata": {},
   "outputs": [],
   "source": [
    "import pandas as pd\n",
    "import numpy as np\n",
    "import time"
   ]
  },
  {
   "cell_type": "markdown",
   "metadata": {},
   "source": [
    "## Part A: Model Code"
   ]
  },
  {
   "cell_type": "markdown",
   "metadata": {},
   "source": [
    "1. Write a function to calculate and return the Euclidean distance of two vectors."
   ]
  },
  {
   "cell_type": "code",
   "execution_count": 41,
   "metadata": {},
   "outputs": [],
   "source": [
    "def Eucillidean_Distance(row1, row2):\n",
    "    Euc_D = np.sqrt(np.sum((row1-row2)**2))\n",
    "    return Euc_D"
   ]
  },
  {
   "cell_type": "markdown",
   "metadata": {},
   "source": [
    "2. Write a function to calculate and return the Manhattan distance of two vectors"
   ]
  },
  {
   "cell_type": "code",
   "execution_count": 42,
   "metadata": {},
   "outputs": [],
   "source": [
    "def Manhatten_Distance (row1,row2):\n",
    "    return np.sum(np.absolute(row1 - row2))"
   ]
  },
  {
   "cell_type": "markdown",
   "metadata": {},
   "source": [
    "3. Write a function to calculate and return the accuracy and generalization error of two vectors."
   ]
  },
  {
   "cell_type": "code",
   "execution_count": 43,
   "metadata": {},
   "outputs": [],
   "source": [
    "def accuracy_and_error (a, b):\n",
    "    TP, TN , FP , FN = confusion_matrix(a,b)\n",
    "    accuracy = (TP + TN) / (TP + TN + FP + FN)\n",
    "    error = 1- accuracy \n",
    "    return (accuracy, error)"
   ]
  },
  {
   "cell_type": "markdown",
   "metadata": {},
   "source": [
    "4. Write three functions to compute: precision, recall and F1 score."
   ]
  },
  {
   "cell_type": "code",
   "execution_count": 44,
   "metadata": {},
   "outputs": [],
   "source": [
    "def precision(a, b):\n",
    "    TP, TN , FP , FN = confusion_matrix(a,b)\n",
    "    if TP + FP == 0:\n",
    "        return 0 \n",
    "    else: \n",
    "        return TP / (TP + FP)\n",
    "    \n",
    "def recall(a, b):\n",
    "    TP, TN , FP , FN = confusion_matrix(a,b)\n",
    "    if TP + FN == 0:\n",
    "        return 0\n",
    "    else:\n",
    "        return TP / (TP + FN)\n",
    "def F1Score(a,b):\n",
    "    TP, TN , FP , FN = confusion_matrix(a,b)\n",
    "    return (TP)/(TP+((FN+FP)/2))"
   ]
  },
  {
   "cell_type": "markdown",
   "metadata": {},
   "source": [
    "5. Write a function to compute the confusion matrix of two vectors"
   ]
  },
  {
   "cell_type": "code",
   "execution_count": 45,
   "metadata": {},
   "outputs": [],
   "source": [
    "def confusion_matrix(a, b):\n",
    "    #A = predicted , b = truth label \n",
    "    TP = 0 \n",
    "    TN = 0\n",
    "    FP = 0 \n",
    "    FN = 0 \n",
    "    z = 0 \n",
    "    while z <= (len(a)-1):\n",
    "        if a[z] == 0 and b[z] == 0:\n",
    "            TN += 1\n",
    "        elif a[z] == 0 and b[z] == 1:\n",
    "            FN += 1\n",
    "        elif a[z] == 1 and b[z] == 0:\n",
    "            FP += 1\n",
    "        elif a[z] == 1 and b[z] == 1:\n",
    "            TP += 1\n",
    "        z += 1\n",
    "    return TP, TN , FP , FN "
   ]
  },
  {
   "cell_type": "markdown",
   "metadata": {},
   "source": [
    "6. Write a function to generate the Receiver Operating Characteristic (ROC) curve. "
   ]
  },
  {
   "cell_type": "code",
   "execution_count": 46,
   "metadata": {},
   "outputs": [],
   "source": [
    "def ROC_Curve (a,b):\n",
    "    Roc_Curves = {}\n",
    "    for values in a:\n",
    "        y_pred, y_test, y_prob = a[values]\n",
    "        roc_point = []\n",
    "        for threshold in b:\n",
    "            New_predict = predict_threshold(y_prob,threshold)\n",
    "            TPR = recall(New_predict, y_test)\n",
    "            FPR = FalsePostiveRate(New_predict, y_test)\n",
    "            roc_point.append([FPR, TPR])\n",
    "        Roc_Curves[values] = roc_point\n",
    "    return Roc_Curves"
   ]
  },
  {
   "cell_type": "markdown",
   "metadata": {},
   "source": [
    "7. Write a function to compute area under curve (AUC) for the ROC curve"
   ]
  },
  {
   "cell_type": "code",
   "execution_count": 47,
   "metadata": {},
   "outputs": [],
   "source": [
    "def Area_Under_Curve(a):\n",
    "    Auc_values = []\n",
    "    for values in a:\n",
    "        b = a[values]\n",
    "        AUC = 0\n",
    "        i = 0\n",
    "        while i <= (len(b)-2):\n",
    "            P1 = b[i]\n",
    "            P2 = b[i+1]\n",
    "            X_P1 = P1[0]\n",
    "            Y_P1 = P1[1]\n",
    "            X_P2 = P2[0]\n",
    "            Y_P2 = P2[1]\n",
    "            Triangle = (((Y_P1 - Y_P2)* (X_P1 - X_P2))/2)\n",
    "            Rectangle = (Y_P2 * (X_P1 - X_P2))\n",
    "            AUC += (Triangle + Rectangle)\n",
    "            i += 1\n",
    "        Auc_values.append(AUC)\n",
    "    return Auc_values"
   ]
  },
  {
   "cell_type": "markdown",
   "metadata": {},
   "source": [
    "8. Write a function to generate the precision-recall curve"
   ]
  },
  {
   "cell_type": "code",
   "execution_count": 48,
   "metadata": {},
   "outputs": [],
   "source": [
    "def Precision_Recall_Curve (a, b):\n",
    "    PR_Curves = {}\n",
    "    for values in a:\n",
    "        y_pred, y_test, y_prob = a[values]\n",
    "        PR_point = []\n",
    "        for threshhold in b:\n",
    "            y_prediction = predict_threshold(y_prob,threshhold)\n",
    "            Prec = precision(y_prediction , y_test)\n",
    "            Recall = recall (y_prediction , y_test)\n",
    "            PR_point.append ([Recall,Prec])\n",
    "        PR_Curves[values] = PR_point\n",
    "    return PR_Curves"
   ]
  },
  {
   "cell_type": "markdown",
   "metadata": {},
   "source": [
    "9. implement a KNN_Classifier model class. It should have the following three methods."
   ]
  },
  {
   "cell_type": "code",
   "execution_count": 49,
   "metadata": {},
   "outputs": [],
   "source": [
    "class KNN_Classifier(): \n",
    "    def fit(self,X,y,n_neighbor,weights):#kwargss):\n",
    "        self.y = y # 1D targer vector\n",
    "        self.X = X # Data Matrix containing all features excluding the targe\n",
    "        self.n_neighbors = n_neighbor\n",
    "        self.weights = weights\n",
    "    def predict(self,X):\n",
    "        if self.weights == \"uniform\":\n",
    "            print(\"Uniform\")\n",
    "            x_test, x_train, y_test, y_train = partition (X,self.y,0.8)\n",
    "\n",
    "            x_train = x_train.to_numpy()\n",
    "\n",
    "            x_test = x_test.to_numpy()\n",
    "\n",
    "            y_train = y_train.to_numpy()    \n",
    "            y_test = y_test.to_numpy()\n",
    "            y_test = y_test.astype(np.int)      \n",
    "            y_train = y_train.astype(np.int)\n",
    "\n",
    "\n",
    "            num_test = x_test.shape[0]\n",
    "            num_train = x_train.shape[0]\n",
    "            distances = np.zeros((num_test,num_train))\n",
    "            for i in range(num_test):\n",
    "                for j in range(num_train):\n",
    "                    distances[i,j] = Eucillidean_Distance(x_test[i,:],x_train[j,:])\n",
    "            predict_test = distances.shape[0]\n",
    "            y_pred = np.zeros(predict_test)\n",
    "            y_prob = np.zeros(predict_test)\n",
    "\n",
    "            if self.n_neighbors == 1:\n",
    "                y_distances = np.argsort(distances)[:self.n_neighbors]\n",
    "                y_indicies = (np.argsort(distances)[self.n_neighbors])\n",
    "                k_closes_classes = y_train_[y_indicies]\n",
    "                y_pred = k_closes_classes\n",
    "                y_prob = k_closes_classes\n",
    "            else:\n",
    "                y_distances = np.sort(distances)\n",
    "                y_indicies = np.argsort(distances)\n",
    "                for t in range(num_test):\n",
    "\n",
    "                    k_closes_classes = y_train[y_indicies[t,:self.n_neighbors]]\n",
    "\n",
    "                    y_pred[t] = np.argmax(np.bincount((k_closes_classes)))\n",
    "                    if y_pred[t] == 1.0:\n",
    "                        number_of_values = (np.bincount(k_closes_classes == 1)[1])\n",
    "                        y_prob[t] = number_of_values / self.n_neighbors\n",
    "\n",
    "                    else:\n",
    "                        number_of_values = (np.bincount(k_closes_classes == 0)[0])\n",
    "                        y_prob[t] = number_of_values / self.n_neighbors\n",
    "            return y_pred, y_test, y_prob\n",
    "        else:\n",
    "            print(\"distance\")\n",
    "            X = shuffle.drop(labels='new quality_1', axis=1)\n",
    "            x_test, x_train, y_test, y_train = partition (X,self.y,0.2)\n",
    "\n",
    "            x_train = x_train.to_numpy()\n",
    "            x_test = x_test.to_numpy()\n",
    "\n",
    "            y_train = y_train.to_numpy()    \n",
    "            y_test = y_test.to_numpy()\n",
    "            y_test = y_test.astype(np.int)      \n",
    "            y_train = y_train.astype(np.int)\n",
    "\n",
    "\n",
    "            num_test = x_test.shape[0]\n",
    "            num_train = x_train.shape[0]\n",
    "            distances = np.zeros((num_test,num_train))\n",
    "            for i in range(num_test):\n",
    "                for j in range(num_train):\n",
    "                    distances[i,j] = Eucillidean_Distance(x_test[i,:],x_train[j,:])\n",
    "                    \n",
    "            \n",
    "            predict_test = distances.shape[0]\n",
    "            y_pred = np.zeros(predict_test)\n",
    "            y_prob = np.zeros(predict_test)\n",
    "            y_distances_ = (np.sort(distances))\n",
    "            y_indicies = (np.argsort(distances))\n",
    "            for t in range(num_test):\n",
    "                freq1_Eu = 0\n",
    "                freq2_Eu = 0\n",
    "                k_closes_classes = y_train[y_indicies[t,:self.n_neighbors]]\n",
    "                                            \n",
    "                for z in range ((len(k_closes_classes))):\n",
    "                    if k_closes_classes[z] == 0:\n",
    "                        freq1_Eu += 1/y_distances_[z,t]\n",
    "                    else:\n",
    "                        freq2_Eu += 1/y_distances_[t,z]\n",
    "                            \n",
    "                if np.sum(freq1_Eu) > np.sum(freq2_Eu):\n",
    "                    y_pred[t] = 0\n",
    "                else:\n",
    "                    y_pred[t] = 1\n",
    "                y_prob [t] = freq2_Eu / (freq1_Eu + freq2_Eu )\n",
    "            return y_pred, y_test, y_prob\n",
    "        \n",
    "#I've made this extra method, in order to do part Correctly. This is the same overall means of answering as \n",
    "#the regular predict method, but instead there is an extra loop in there that will be used to run through the \n",
    "#different number of folds avaiable. \n",
    "    def predict_folds(self, X, num_folds):\n",
    "        if self.weights == \"uniform\":\n",
    "            print (\"Uniform\")\n",
    "            Stored_dictionary_Euic = {}\n",
    "            Stored_dictionary_Ma = {}\n",
    "            for i in range(num_folds): \n",
    "                #because the folds don't change no matter how many times you recall this function\n",
    "                #I can just re use it each fold, and just take a different version of it from \n",
    "                # the features and labels\n",
    "                print(i)\n",
    "                features, labels =  folds(X,self.y,num_folds)\n",
    "                x_test = features[i]\n",
    "                del features[i]\n",
    "                x_train = pd.concat(features)\n",
    "                y_test = labels[i]\n",
    "                del labels[i]\n",
    "                y_train = pd.concat(labels)\n",
    "                #Above code is used to get the different fold into the specific training and test values\n",
    "\n",
    "                #had to confert these to arrays because some of the later on code wasn't working well\n",
    "\n",
    "                x_train = x_train.to_numpy()\n",
    "                x_test = x_test.to_numpy()\n",
    "                y_train = y_train.to_numpy()\n",
    "                y_test = y_test.to_numpy()\n",
    "\n",
    "                y_train = y_train.astype(np.int)\n",
    "                y_test = y_test.astype(np.int)\n",
    "\n",
    "                num_test = x_test.shape[0]\n",
    "                num_train = x_train.shape[0]\n",
    "                # These were created in order to put their values in a specific spot so that \n",
    "                #i can recall their index's to figure out the actual value from the training labels\n",
    "\n",
    "                distances_Eu = np.zeros((num_test,num_train))\n",
    "                distances_Ma = np.zeros((num_test,num_train))\n",
    "                for a in range(num_test):\n",
    "                    for j in range(num_train):\n",
    "                        distances_Eu[a,j] = Eucillidean_Distance(x_test[a,:],x_train[j,:])\n",
    "                        distances_Ma[a,j] = Manhatten_Distance(x_test[a,:],x_train[j,:])\n",
    "                y_pred_Eu = np.zeros(num_test)\n",
    "                y_pred_Ma = np.zeros(num_test)\n",
    "                y_prob_Eu = np.zeros(num_test)\n",
    "                y_prob_Ma = np.zeros(num_test)\n",
    "                y_distances_Eu = (np.sort(distances_Eu))\n",
    "                y_distances_Ma = (np.sort(distances_Ma))\n",
    "                y_indicies_Eu = np.argsort(distances_Eu)\n",
    "                y_indicies_Ma = np.argsort(distances_Ma)\n",
    "                for z in range(num_test):\n",
    "                    k_closes_classes_Eu = y_train[y_indicies_Eu[z, :self.n_neighbors]].astype(int)\n",
    "                    k_closes_classes_Ma = y_train[y_indicies_Ma[z,:self.n_neighbors]].astype(int)\n",
    "\n",
    "                    y_pred_Eu[z] = np.argmax(np.bincount(k_closes_classes_Eu))\n",
    "                    y_pred_Ma[z] = np.argmax(np.bincount(k_closes_classes_Ma))\n",
    "                    #I can use this to calculate the prediction just because the bianry is \n",
    "                    #0's and 1's i am calculating the probability of getting 1 everytime which is \n",
    "                    # just the sum of 1 / by the number of values within that instance\n",
    "                    y_prob_Eu[z] = (np.mean(k_closes_classes_Eu))\n",
    "\n",
    "                    y_prob_Ma[z] = (np.mean(k_closes_classes_Ma))\n",
    "                #We then store that value into a dictionary which has within it the prediction, \n",
    "                #the labels, as well as the prob for 1.\n",
    "\n",
    "                Stored_dictionary_Ma [i] = y_pred_Ma ,y_test, y_prob_Ma\n",
    "                Stored_dictionary_Euic [i] = y_pred_Eu,y_test, y_prob_Eu\n",
    "\n",
    "\n",
    "\n",
    "                # Then it returns both values for both Euic as well as Ma. Although it was said that\n",
    "                # we decdied what we wanted earlier. I left this in because it asked for it to test\n",
    "                #Both values and to see if antyhing changes because of it. \n",
    "            return Stored_dictionary_Euic, Stored_dictionary_Ma\n",
    "        else:\n",
    "            print(\"Distance\")\n",
    "            Stored_dictionary_Euic = {}\n",
    "            Stored_dictionary_Ma = {}\n",
    "            #Same thing as the other function above just with weight on the distance.\n",
    "            for i in range(num_folds):  \n",
    "                print(i)\n",
    "                features, labels =  folds(X,self.y,num_folds)\n",
    "                x_test = features[i]\n",
    "                del features[i]\n",
    "                x_train = pd.concat(features)\n",
    "                y_test = labels[i]\n",
    "                del labels[i]\n",
    "                y_train = pd.concat(labels)\n",
    "\n",
    "\n",
    "                x_train = x_train.to_numpy()\n",
    "                x_test = x_test.to_numpy()\n",
    "                y_train = y_train.to_numpy()\n",
    "                y_test = y_test.to_numpy()\n",
    "\n",
    "                y_train = y_train.astype(np.int)\n",
    "                y_test = y_test.astype(np.int)\n",
    "\n",
    "\n",
    "                num_test = x_test.shape[0]\n",
    "                num_train = x_train.shape[0]\n",
    "\n",
    "\n",
    "                distances_Eu = np.zeros((num_test,num_train))\n",
    "                distances_Ma = np.zeros((num_test,num_train))\n",
    "\n",
    "                for a in range(num_test):\n",
    "                    for j in range(num_train):\n",
    "                        distances_Eu[a,j] = Eucillidean_Distance(x_test[a,:],x_train[j,:])\n",
    "                        distances_Ma[a,j] = Manhatten_Distance(x_test[a,:],x_train[j,:])\n",
    "\n",
    "\n",
    "\n",
    "\n",
    "\n",
    "                predict_test = distances_Eu.shape[0]\n",
    "                y_pred_Eu = np.zeros(predict_test)\n",
    "                y_prob_Eu = np.zeros(predict_test)\n",
    "                y_pred_Ma = np.zeros(predict_test)\n",
    "                y_prob_Ma = np.zeros(predict_test)\n",
    "\n",
    "                y_distances_Eu = (np.sort(distances_Eu))\n",
    "                y_indicies_Eu = (np.argsort(distances_Eu))\n",
    "\n",
    "                y_distances_Ma = (np.sort(distances_Ma))\n",
    "                y_indicies_Ma = (np.argsort(distances_Ma))\n",
    "\n",
    "                # a loop to calculate the weight for each instance. \n",
    "\n",
    "                for z in range(num_test):\n",
    "                    k_closes_classes_Eu = y_train[y_indicies_Eu[z,:self.n_neighbors]]\n",
    "                    k_closes_classes_Ma = y_train[y_indicies_Ma[z,:self.n_neighbors]]\n",
    "                    freq1_Eu = 0\n",
    "                    freq2_Eu = 0\n",
    "                    freq1_Ma = 0\n",
    "                    freq2_Ma = 0\n",
    "                    #it looks for each value in the K neighbors labels, i can now figures out \n",
    "                    # which value to add to which varriable defined as freq 1 freq2. \n",
    "                    # freq 1 is the sum of 0 for that k neighbors, and freq 2 is the sum\n",
    "                    # of 1 for that neighbor. \n",
    "                    for t in range((len(k_closes_classes_Ma))):\n",
    "                        if k_closes_classes_Ma[t] == 0:\n",
    "                            freq1_Ma += 1/ y_distances_Ma[z,t]\n",
    "                        else:\n",
    "                            freq2_Ma += 1/ y_distances_Ma[z,t]\n",
    "\n",
    "                        if k_closes_classes_Eu[t] == 0:\n",
    "                            freq1_Eu += 1/y_distances_Eu[z,t]\n",
    "                        else:\n",
    "                            freq2_Eu += 1/y_distances_Eu[z,t]\n",
    "                    #then you decide which is larger, and you can then put the prediction down\n",
    "                    #based upon the values of those freq1 and freq2. \n",
    "                    if np.sum(freq1_Eu) > np.sum(freq2_Eu):\n",
    "                        y_pred_Eu[z] = 0\n",
    "                    else:\n",
    "                        y_pred_Eu[z] = 1\n",
    "\n",
    "                    if np.sum(freq1_Ma) > np.sum(freq2_Ma):\n",
    "                        y_pred_Ma[z] = 0\n",
    "                    else:\n",
    "                        y_pred_Ma[z] = 1\n",
    "                    y_prob_Eu [z] = freq2_Eu / (freq1_Eu + freq2_Eu )\n",
    "                    y_prob_Ma [z] = freq2_Ma / (freq1_Ma + freq2_Ma )\n",
    "\n",
    "\n",
    "                Stored_dictionary_Euic [i] = y_pred_Eu,y_test ,y_prob_Eu\n",
    "                Stored_dictionary_Ma [i] = y_pred_Ma, y_test, y_prob_Ma\n",
    "            return Stored_dictionary_Euic, Stored_dictionary_Ma\n",
    "    \n",
    "    \n",
    "    def __init__(self):\n",
    "        pass\n",
    "    def __init__(self):\n",
    "        \n",
    "        pass\n",
    "\n"
   ]
  },
  {
   "cell_type": "markdown",
   "metadata": {},
   "source": [
    "10. Read in the winequality-white.csv file as a Pandas data frame. "
   ]
  },
  {
   "cell_type": "code",
   "execution_count": 205,
   "metadata": {},
   "outputs": [],
   "source": [
    "import pandas as pd\n",
    "import numpy as np\n",
    "df = pd.read_csv('winequality-white.csv', sep=\";\")"
   ]
  },
  {
   "cell_type": "markdown",
   "metadata": {},
   "source": [
    "11. The target will be the “quality” column which represents rating of wine and ranges from 3 to 8. You will need to convert it into a two-category variable consisting of “good” (quality > 5) & “bad” (quality <= 5). Your target vector should have 0s (representing “bad” quality wine) and 1s (representing “good” quality wine). "
   ]
  },
  {
   "cell_type": "code",
   "execution_count": 206,
   "metadata": {},
   "outputs": [],
   "source": [
    "df.loc[df['quality'] > 5, 'new quality'] = '1'\n",
    "df.loc[df['quality'] <= 5, 'new quality'] = '0'"
   ]
  },
  {
   "cell_type": "markdown",
   "metadata": {},
   "source": [
    "12. Use the techniques from the first recitation to summarize each of the variables in the dataset in terms of mean, standard deviation, and quartiles. Include this in your report."
   ]
  },
  {
   "cell_type": "code",
   "execution_count": 207,
   "metadata": {},
   "outputs": [
    {
     "data": {
      "text/html": [
       "<div>\n",
       "<style scoped>\n",
       "    .dataframe tbody tr th:only-of-type {\n",
       "        vertical-align: middle;\n",
       "    }\n",
       "\n",
       "    .dataframe tbody tr th {\n",
       "        vertical-align: top;\n",
       "    }\n",
       "\n",
       "    .dataframe thead th {\n",
       "        text-align: right;\n",
       "    }\n",
       "</style>\n",
       "<table border=\"1\" class=\"dataframe\">\n",
       "  <thead>\n",
       "    <tr style=\"text-align: right;\">\n",
       "      <th></th>\n",
       "      <th>fixed acidity</th>\n",
       "      <th>volatile acidity</th>\n",
       "      <th>citric acid</th>\n",
       "      <th>residual sugar</th>\n",
       "      <th>chlorides</th>\n",
       "      <th>free sulfur dioxide</th>\n",
       "      <th>total sulfur dioxide</th>\n",
       "      <th>density</th>\n",
       "      <th>pH</th>\n",
       "      <th>sulphates</th>\n",
       "      <th>alcohol</th>\n",
       "      <th>quality</th>\n",
       "    </tr>\n",
       "  </thead>\n",
       "  <tbody>\n",
       "    <tr>\n",
       "      <th>count</th>\n",
       "      <td>4898.000000</td>\n",
       "      <td>4898.000000</td>\n",
       "      <td>4898.000000</td>\n",
       "      <td>4898.000000</td>\n",
       "      <td>4898.000000</td>\n",
       "      <td>4898.000000</td>\n",
       "      <td>4898.000000</td>\n",
       "      <td>4898.000000</td>\n",
       "      <td>4898.000000</td>\n",
       "      <td>4898.000000</td>\n",
       "      <td>4898.000000</td>\n",
       "      <td>4898.000000</td>\n",
       "    </tr>\n",
       "    <tr>\n",
       "      <th>mean</th>\n",
       "      <td>6.854788</td>\n",
       "      <td>0.278241</td>\n",
       "      <td>0.334192</td>\n",
       "      <td>6.391415</td>\n",
       "      <td>0.045772</td>\n",
       "      <td>35.308085</td>\n",
       "      <td>138.360657</td>\n",
       "      <td>0.994027</td>\n",
       "      <td>3.188267</td>\n",
       "      <td>0.489847</td>\n",
       "      <td>10.514267</td>\n",
       "      <td>5.877909</td>\n",
       "    </tr>\n",
       "    <tr>\n",
       "      <th>std</th>\n",
       "      <td>0.843868</td>\n",
       "      <td>0.100795</td>\n",
       "      <td>0.121020</td>\n",
       "      <td>5.072058</td>\n",
       "      <td>0.021848</td>\n",
       "      <td>17.007137</td>\n",
       "      <td>42.498065</td>\n",
       "      <td>0.002991</td>\n",
       "      <td>0.151001</td>\n",
       "      <td>0.114126</td>\n",
       "      <td>1.230621</td>\n",
       "      <td>0.885639</td>\n",
       "    </tr>\n",
       "    <tr>\n",
       "      <th>min</th>\n",
       "      <td>3.800000</td>\n",
       "      <td>0.080000</td>\n",
       "      <td>0.000000</td>\n",
       "      <td>0.600000</td>\n",
       "      <td>0.009000</td>\n",
       "      <td>2.000000</td>\n",
       "      <td>9.000000</td>\n",
       "      <td>0.987110</td>\n",
       "      <td>2.720000</td>\n",
       "      <td>0.220000</td>\n",
       "      <td>8.000000</td>\n",
       "      <td>3.000000</td>\n",
       "    </tr>\n",
       "    <tr>\n",
       "      <th>25%</th>\n",
       "      <td>6.300000</td>\n",
       "      <td>0.210000</td>\n",
       "      <td>0.270000</td>\n",
       "      <td>1.700000</td>\n",
       "      <td>0.036000</td>\n",
       "      <td>23.000000</td>\n",
       "      <td>108.000000</td>\n",
       "      <td>0.991723</td>\n",
       "      <td>3.090000</td>\n",
       "      <td>0.410000</td>\n",
       "      <td>9.500000</td>\n",
       "      <td>5.000000</td>\n",
       "    </tr>\n",
       "    <tr>\n",
       "      <th>50%</th>\n",
       "      <td>6.800000</td>\n",
       "      <td>0.260000</td>\n",
       "      <td>0.320000</td>\n",
       "      <td>5.200000</td>\n",
       "      <td>0.043000</td>\n",
       "      <td>34.000000</td>\n",
       "      <td>134.000000</td>\n",
       "      <td>0.993740</td>\n",
       "      <td>3.180000</td>\n",
       "      <td>0.470000</td>\n",
       "      <td>10.400000</td>\n",
       "      <td>6.000000</td>\n",
       "    </tr>\n",
       "    <tr>\n",
       "      <th>75%</th>\n",
       "      <td>7.300000</td>\n",
       "      <td>0.320000</td>\n",
       "      <td>0.390000</td>\n",
       "      <td>9.900000</td>\n",
       "      <td>0.050000</td>\n",
       "      <td>46.000000</td>\n",
       "      <td>167.000000</td>\n",
       "      <td>0.996100</td>\n",
       "      <td>3.280000</td>\n",
       "      <td>0.550000</td>\n",
       "      <td>11.400000</td>\n",
       "      <td>6.000000</td>\n",
       "    </tr>\n",
       "    <tr>\n",
       "      <th>max</th>\n",
       "      <td>14.200000</td>\n",
       "      <td>1.100000</td>\n",
       "      <td>1.660000</td>\n",
       "      <td>65.800000</td>\n",
       "      <td>0.346000</td>\n",
       "      <td>289.000000</td>\n",
       "      <td>440.000000</td>\n",
       "      <td>1.038980</td>\n",
       "      <td>3.820000</td>\n",
       "      <td>1.080000</td>\n",
       "      <td>14.200000</td>\n",
       "      <td>9.000000</td>\n",
       "    </tr>\n",
       "  </tbody>\n",
       "</table>\n",
       "</div>"
      ],
      "text/plain": [
       "       fixed acidity  volatile acidity  citric acid  residual sugar  \\\n",
       "count    4898.000000       4898.000000  4898.000000     4898.000000   \n",
       "mean        6.854788          0.278241     0.334192        6.391415   \n",
       "std         0.843868          0.100795     0.121020        5.072058   \n",
       "min         3.800000          0.080000     0.000000        0.600000   \n",
       "25%         6.300000          0.210000     0.270000        1.700000   \n",
       "50%         6.800000          0.260000     0.320000        5.200000   \n",
       "75%         7.300000          0.320000     0.390000        9.900000   \n",
       "max        14.200000          1.100000     1.660000       65.800000   \n",
       "\n",
       "         chlorides  free sulfur dioxide  total sulfur dioxide      density  \\\n",
       "count  4898.000000          4898.000000           4898.000000  4898.000000   \n",
       "mean      0.045772            35.308085            138.360657     0.994027   \n",
       "std       0.021848            17.007137             42.498065     0.002991   \n",
       "min       0.009000             2.000000              9.000000     0.987110   \n",
       "25%       0.036000            23.000000            108.000000     0.991723   \n",
       "50%       0.043000            34.000000            134.000000     0.993740   \n",
       "75%       0.050000            46.000000            167.000000     0.996100   \n",
       "max       0.346000           289.000000            440.000000     1.038980   \n",
       "\n",
       "                pH    sulphates      alcohol      quality  \n",
       "count  4898.000000  4898.000000  4898.000000  4898.000000  \n",
       "mean      3.188267     0.489847    10.514267     5.877909  \n",
       "std       0.151001     0.114126     1.230621     0.885639  \n",
       "min       2.720000     0.220000     8.000000     3.000000  \n",
       "25%       3.090000     0.410000     9.500000     5.000000  \n",
       "50%       3.180000     0.470000    10.400000     6.000000  \n",
       "75%       3.280000     0.550000    11.400000     6.000000  \n",
       "max       3.820000     1.080000    14.200000     9.000000  "
      ]
     },
     "execution_count": 207,
     "metadata": {},
     "output_type": "execute_result"
    }
   ],
   "source": [
    "df.describe()"
   ]
  },
  {
   "cell_type": "markdown",
   "metadata": {},
   "source": [
    "13.Shuffle the rows of your data. You can use def = df.sample(frac=1) as an idiomatic way to shuffle the data in Pandas without losing column names"
   ]
  },
  {
   "cell_type": "code",
   "execution_count": null,
   "metadata": {},
   "outputs": [],
   "source": []
  },
  {
   "cell_type": "code",
   "execution_count": 208,
   "metadata": {},
   "outputs": [],
   "source": [
    "df = df.sample(frac=1)"
   ]
  },
  {
   "cell_type": "code",
   "execution_count": 209,
   "metadata": {},
   "outputs": [
    {
     "data": {
      "text/plain": [
       "quality                 1.000000\n",
       "alcohol                 0.435575\n",
       "pH                      0.099427\n",
       "sulphates               0.053678\n",
       "free sulfur dioxide     0.008158\n",
       "citric acid            -0.009209\n",
       "residual sugar         -0.097577\n",
       "fixed acidity          -0.113663\n",
       "total sulfur dioxide   -0.174737\n",
       "volatile acidity       -0.194723\n",
       "chlorides              -0.209934\n",
       "density                -0.307123\n",
       "Name: quality, dtype: float64"
      ]
     },
     "execution_count": 209,
     "metadata": {},
     "output_type": "execute_result"
    }
   ],
   "source": [
    "df.corr()['quality'].sort_values(ascending=False)"
   ]
  },
  {
   "cell_type": "code",
   "execution_count": 210,
   "metadata": {},
   "outputs": [
    {
     "name": "stdout",
     "output_type": "stream",
     "text": [
      "\n",
      "Column Name: new quality\n",
      "1    3258\n",
      "0    1640\n",
      "Name: new quality, dtype: int64\n"
     ]
    }
   ],
   "source": [
    "for col in df.columns:\n",
    "    if df[col].dtype == 'object':\n",
    "        print('\\nColumn Name:', col,)\n",
    "        print(df[col].value_counts())"
   ]
  },
  {
   "cell_type": "code",
   "execution_count": 211,
   "metadata": {},
   "outputs": [],
   "source": [
    "category_df = df.select_dtypes(['object'])\n",
    "dummy_df = pd.get_dummies(category_df)\n",
    "dummy_df['new quality'] = df['new quality']\n",
    "df = pd.get_dummies(df)"
   ]
  },
  {
   "cell_type": "markdown",
   "metadata": {},
   "source": [
    "14. Generate pair plots using the seaborn package. This will be used to identify and report the redundant features, if there is any"
   ]
  },
  {
   "cell_type": "code",
   "execution_count": null,
   "metadata": {},
   "outputs": [],
   "source": [
    "### i did take this from the workbooks.\n",
    "import warnings\n",
    "warnings.filterwarnings('ignore')\n",
    "import matplotlib.pyplot as plt\n",
    "%matplotlib inline\n",
    "import seaborn as sns\n",
    "from scipy import stats\n",
    "\n",
    "def corrfunc(x, y, **kws):\n",
    "    r, _ = stats.pearsonr(x, y)\n",
    "    ax = plt.gca()\n",
    "    ax.annotate(\"r = {:.2f}\".format(r),\n",
    "                xy=(.1, .6), xycoords=ax.transAxes,\n",
    "               size = 24)\n",
    "    \n",
    "cmap = sns.cubehelix_palette(light=1, dark = 0.1,\n",
    "                             hue = 0.5, as_cmap=True)\n",
    "\n",
    "sns.set_context(font_scale=2)\n",
    "\n",
    "# Pair grid set up\n",
    "g = sns.PairGrid(df)\n",
    "\n",
    "# Scatter plot on the upper triangle\n",
    "g.map_upper(plt.scatter, s=10, color = 'red')\n",
    "\n",
    "# Distribution on the diagonal\n",
    "g.map_diag(sns.distplot, kde=False, color = 'red')\n",
    "\n",
    "# Density Plot and Correlation coefficients on the lower triangle\n",
    "g.map_lower(sns.kdeplot, cmap = cmap)\n",
    "g.map_lower(corrfunc);"
   ]
  },
  {
   "cell_type": "markdown",
   "metadata": {},
   "source": [
    "15. Drop the redundant features"
   ]
  },
  {
   "cell_type": "code",
   "execution_count": 19,
   "metadata": {},
   "outputs": [],
   "source": [
    "df = df.drop(labels=['new quality_0','quality'], axis = 1) \n",
    "most_correlated = df.corr().abs()['new quality_1'].sort_values(ascending=False)\n",
    "most_correlated1 = most_correlated[:6]\n",
    "df = df.loc[:,most_correlated1.index]\n",
    "df = df.drop_duplicates(keep= 'first')\n",
    "## i ended up dropping every value that wasn't within the top 6 spot of correlation, just because \n",
    "## of how low those corelations were, they were below 0.1 almost reaching 0. \n",
    "## but i ddin't drop any based upon the pairs plot just becuase no one value was exactly the same as the other"
   ]
  },
  {
   "cell_type": "code",
   "execution_count": null,
   "metadata": {},
   "outputs": [],
   "source": []
  },
  {
   "cell_type": "code",
   "execution_count": 20,
   "metadata": {},
   "outputs": [],
   "source": [
    "shuffle = df\n",
    "y = shuffle['new quality_1'] # 1D targer vector\n",
    "X = shuffle.drop(labels='new quality_1', axis=1)\n",
    "X_standardize = X.apply(lambda x: (x - x.mean(axis = 0) ) / (np.std(x)))"
   ]
  },
  {
   "cell_type": "code",
   "execution_count": 21,
   "metadata": {},
   "outputs": [
    {
     "data": {
      "text/html": [
       "<div>\n",
       "<style scoped>\n",
       "    .dataframe tbody tr th:only-of-type {\n",
       "        vertical-align: middle;\n",
       "    }\n",
       "\n",
       "    .dataframe tbody tr th {\n",
       "        vertical-align: top;\n",
       "    }\n",
       "\n",
       "    .dataframe thead th {\n",
       "        text-align: right;\n",
       "    }\n",
       "</style>\n",
       "<table border=\"1\" class=\"dataframe\">\n",
       "  <thead>\n",
       "    <tr style=\"text-align: right;\">\n",
       "      <th></th>\n",
       "      <th>new quality_1</th>\n",
       "      <th>alcohol</th>\n",
       "      <th>density</th>\n",
       "      <th>volatile acidity</th>\n",
       "      <th>chlorides</th>\n",
       "      <th>total sulfur dioxide</th>\n",
       "    </tr>\n",
       "  </thead>\n",
       "  <tbody>\n",
       "    <tr>\n",
       "      <th>count</th>\n",
       "      <td>3938.000000</td>\n",
       "      <td>3938.000000</td>\n",
       "      <td>3938.000000</td>\n",
       "      <td>3938.000000</td>\n",
       "      <td>3938.000000</td>\n",
       "      <td>3938.000000</td>\n",
       "    </tr>\n",
       "    <tr>\n",
       "      <th>mean</th>\n",
       "      <td>0.659726</td>\n",
       "      <td>10.590299</td>\n",
       "      <td>0.993788</td>\n",
       "      <td>0.280387</td>\n",
       "      <td>0.045923</td>\n",
       "      <td>137.160361</td>\n",
       "    </tr>\n",
       "    <tr>\n",
       "      <th>std</th>\n",
       "      <td>0.473861</td>\n",
       "      <td>1.215643</td>\n",
       "      <td>0.002900</td>\n",
       "      <td>0.103227</td>\n",
       "      <td>0.023160</td>\n",
       "      <td>43.019883</td>\n",
       "    </tr>\n",
       "    <tr>\n",
       "      <th>min</th>\n",
       "      <td>0.000000</td>\n",
       "      <td>8.000000</td>\n",
       "      <td>0.987110</td>\n",
       "      <td>0.080000</td>\n",
       "      <td>0.009000</td>\n",
       "      <td>9.000000</td>\n",
       "    </tr>\n",
       "    <tr>\n",
       "      <th>25%</th>\n",
       "      <td>0.000000</td>\n",
       "      <td>9.500000</td>\n",
       "      <td>0.991613</td>\n",
       "      <td>0.210000</td>\n",
       "      <td>0.035000</td>\n",
       "      <td>106.000000</td>\n",
       "    </tr>\n",
       "    <tr>\n",
       "      <th>50%</th>\n",
       "      <td>1.000000</td>\n",
       "      <td>10.400000</td>\n",
       "      <td>0.993490</td>\n",
       "      <td>0.260000</td>\n",
       "      <td>0.042000</td>\n",
       "      <td>133.000000</td>\n",
       "    </tr>\n",
       "    <tr>\n",
       "      <th>75%</th>\n",
       "      <td>1.000000</td>\n",
       "      <td>11.400000</td>\n",
       "      <td>0.995707</td>\n",
       "      <td>0.330000</td>\n",
       "      <td>0.050000</td>\n",
       "      <td>166.000000</td>\n",
       "    </tr>\n",
       "    <tr>\n",
       "      <th>max</th>\n",
       "      <td>1.000000</td>\n",
       "      <td>14.200000</td>\n",
       "      <td>1.038980</td>\n",
       "      <td>1.100000</td>\n",
       "      <td>0.346000</td>\n",
       "      <td>440.000000</td>\n",
       "    </tr>\n",
       "  </tbody>\n",
       "</table>\n",
       "</div>"
      ],
      "text/plain": [
       "       new quality_1      alcohol      density  volatile acidity    chlorides  \\\n",
       "count    3938.000000  3938.000000  3938.000000       3938.000000  3938.000000   \n",
       "mean        0.659726    10.590299     0.993788          0.280387     0.045923   \n",
       "std         0.473861     1.215643     0.002900          0.103227     0.023160   \n",
       "min         0.000000     8.000000     0.987110          0.080000     0.009000   \n",
       "25%         0.000000     9.500000     0.991613          0.210000     0.035000   \n",
       "50%         1.000000    10.400000     0.993490          0.260000     0.042000   \n",
       "75%         1.000000    11.400000     0.995707          0.330000     0.050000   \n",
       "max         1.000000    14.200000     1.038980          1.100000     0.346000   \n",
       "\n",
       "       total sulfur dioxide  \n",
       "count           3938.000000  \n",
       "mean             137.160361  \n",
       "std               43.019883  \n",
       "min                9.000000  \n",
       "25%              106.000000  \n",
       "50%              133.000000  \n",
       "75%              166.000000  \n",
       "max              440.000000  "
      ]
     },
     "execution_count": 21,
     "metadata": {},
     "output_type": "execute_result"
    }
   ],
   "source": [
    "shuffle.describe()"
   ]
  },
  {
   "cell_type": "markdown",
   "metadata": {},
   "source": [
    "16. Write a function named “partition” to split your data into trainingand test set. The function should take 3 arguments:"
   ]
  },
  {
   "cell_type": "code",
   "execution_count": 22,
   "metadata": {},
   "outputs": [],
   "source": [
    "def partition (data,targ_vector,t):\n",
    "    test_lengths = int(t * len(data))\n",
    "    x_test = data[:test_lengths]\n",
    "    y_test = data[test_lengths:]\n",
    "    x_train = targ_vector[:test_lengths]\n",
    "    y_train = targ_vector[test_lengths:]\n",
    "    return x_test,y_test,x_train,y_train"
   ]
  },
  {
   "cell_type": "code",
   "execution_count": 23,
   "metadata": {},
   "outputs": [],
   "source": [
    "model_args= {0:confusion_matrix,\n",
    "             1:precision,\n",
    "             2: recall, \n",
    "             3: F1Score,\n",
    "             4: accuracy_and_error} "
   ]
  },
  {
   "cell_type": "markdown",
   "metadata": {},
   "source": [
    "17. Naively run your KNN_Classifier model on the trainingdataset with n_neighbors = 5 and using Euclidean distance."
   ]
  },
  {
   "cell_type": "code",
   "execution_count": 24,
   "metadata": {},
   "outputs": [
    {
     "name": "stdout",
     "output_type": "stream",
     "text": [
      "Uniform\n",
      "{20.598909616470337}\n"
     ]
    }
   ],
   "source": [
    "\n",
    "start = time.time()\n",
    "n_neighbor = 5\n",
    "weights = \"uniform\"\n",
    "KNN = KNN_Classifier ()\n",
    "KNN.fit(X,y,n_neighbor, weights)\n",
    "y_pred , y_test ,y_prob = KNN.predict(X)\n",
    "\n",
    "model_args= {0:confusion_matrix,\n",
    "             1:precision,\n",
    "             2: recall, \n",
    "             3: F1Score,\n",
    "             4: accuracy_and_error} \n",
    "\n",
    "unstandardized = {}\n",
    "x = 0\n",
    "while x <= (len(model_args)-1):\n",
    "    Euclidean = model_args[x](y_pred, y_test)\n",
    "    unstandardized[x] = Euclidean\n",
    "    x += 1\n",
    "unstandardized   \n",
    "\n",
    "end = time.time()\n",
    "print({end - start})"
   ]
  },
  {
   "cell_type": "markdown",
   "metadata": {},
   "source": [
    "a. Use accuracy and F1 score to compare your predictions to the expected labels"
   ]
  },
  {
   "cell_type": "code",
   "execution_count": 25,
   "metadata": {},
   "outputs": [
    {
     "name": "stdout",
     "output_type": "stream",
     "text": [
      "F1 Score: 0.7475270843146491\n"
     ]
    }
   ],
   "source": [
    "print (\"F1 Score:\",unstandardized[3])"
   ]
  },
  {
   "cell_type": "markdown",
   "metadata": {},
   "source": [
    "b. Now standardize each feature of your training set (subtract mean and divide by standard deviation). Use the mean and standard deviation values for each feature in the training set to scale the test data"
   ]
  },
  {
   "cell_type": "code",
   "execution_count": 26,
   "metadata": {},
   "outputs": [],
   "source": [
    "X_standardize = X.apply(lambda x: (x - x.mean(axis = 0) ) / (np.std(x)))"
   ]
  },
  {
   "cell_type": "markdown",
   "metadata": {},
   "source": [
    "c. Re-run the KNN_Classifier model on the standardized data, find the accuracy and F1 score with the expected labels."
   ]
  },
  {
   "cell_type": "code",
   "execution_count": 27,
   "metadata": {},
   "outputs": [
    {
     "name": "stdout",
     "output_type": "stream",
     "text": [
      "Uniform\n",
      "{20.288357496261597}\n"
     ]
    }
   ],
   "source": [
    "start = time.time()\n",
    "\n",
    "n_neighbor = 5\n",
    "weights = \"uniform\"\n",
    "KNN = KNN_Classifier ()\n",
    "KNN.fit(X_standardize,y,n_neighbor, weights)\n",
    "y_pred, y_test, y_prob = KNN.predict(X_standardize)\n",
    "\n",
    "model_args= {0:confusion_matrix,\n",
    "             1:precision,\n",
    "             2: recall, \n",
    "             3: F1Score,\n",
    "             4: accuracy_and_error} \n",
    "\n",
    "standardized = {}\n",
    "x = 0\n",
    "while x <= (len(model_args)-1):\n",
    "    Euclidean = model_args[x](y_pred, y_test)\n",
    "    standardized[x] = Euclidean\n",
    "    x += 1\n",
    "    \n",
    "standardized\n",
    "end = time.time()\n",
    "print({end - start})"
   ]
  },
  {
   "cell_type": "markdown",
   "metadata": {},
   "source": [
    "d. Compare the two accuracy values and the F1 scores; and decide whether you should use standardized data or unscaled data for the remainder of the assignment. This will describedin the report"
   ]
  },
  {
   "cell_type": "code",
   "execution_count": 28,
   "metadata": {},
   "outputs": [
    {
     "name": "stdout",
     "output_type": "stream",
     "text": [
      "Comparing the unstandardized to standardized 0.7475270843146491 0.791453785415699\n"
     ]
    }
   ],
   "source": [
    "print (\"Comparing the unstandardized to standardized\", unstandardized[3], standardized[3])"
   ]
  },
  {
   "cell_type": "code",
   "execution_count": 29,
   "metadata": {},
   "outputs": [
    {
     "name": "stdout",
     "output_type": "stream",
     "text": [
      "Comapring the accuracy values from unstandardized to standardized (0.6596825396825396, 0.34031746031746035) (0.714920634920635, 0.28507936507936504)\n"
     ]
    }
   ],
   "source": [
    "print(\"Comapring the accuracy values from unstandardized to standardized\",unstandardized[4], standardized[4] )"
   ]
  },
  {
   "cell_type": "markdown",
   "metadata": {},
   "source": [
    "## The decision being made is to use standardized values, because it produced a better F1 score as well as was more accurate compared to non standadrdized. "
   ]
  },
  {
   "cell_type": "markdown",
   "metadata": {},
   "source": [
    "e. Perform a similar test for inverse distance weighting in the KNN_Classifier model and determine whether or not to use it. This will go in the report."
   ]
  },
  {
   "cell_type": "code",
   "execution_count": 280,
   "metadata": {},
   "outputs": [
    {
     "name": "stdout",
     "output_type": "stream",
     "text": [
      "distance\n",
      "{23.627888202667236}\n"
     ]
    }
   ],
   "source": [
    "start = time.time()\n",
    "X_standardize = X.apply(lambda x: (x - x.mean(axis = 0) ) / (np.std(x)))\n",
    "n_neighbor = 5\n",
    "weights = \"distance\"\n",
    "KNN = KNN_Classifier ()\n",
    "KNN.fit(X_standardize,y,n_neighbor, weights)\n",
    "y_pred, y_test, y_prob = KNN.predict(X_standardize)\n",
    "\n",
    "model_args= {0:confusion_matrix,\n",
    "             1:precision,\n",
    "             2: recall, \n",
    "             3: F1Score,\n",
    "             4: accuracy_and_error} \n",
    "\n",
    "standardized_weight = {}\n",
    "x = 0\n",
    "while x <= (len(model_args)-1):\n",
    "    Euclidean = model_args[x](y_pred, y_test)\n",
    "    standardized_weight[x] = Euclidean\n",
    "    x += 1\n",
    "    \n",
    "standardized_weight\n",
    "end = time.time()\n",
    "print({end - start})"
   ]
  },
  {
   "cell_type": "code",
   "execution_count": 276,
   "metadata": {},
   "outputs": [],
   "source": [
    "model_args= {0:confusion_matrix,\n",
    "             1:precision,\n",
    "             2: recall, \n",
    "             3: F1,\n",
    "             4: accuracy_and_error} "
   ]
  },
  {
   "cell_type": "code",
   "execution_count": 281,
   "metadata": {},
   "outputs": [
    {
     "name": "stdout",
     "output_type": "stream",
     "text": [
      "The weight either uniform or distance using standardized weight 0.7904717853839038 0.7896389324960753\n"
     ]
    }
   ],
   "source": [
    "print(\"The weight either uniform or distance using standardized weight\",standardized[3], standardized_weight[3])"
   ]
  },
  {
   "cell_type": "code",
   "execution_count": 282,
   "metadata": {},
   "outputs": [
    {
     "name": "stdout",
     "output_type": "stream",
     "text": [
      "The weight either uniform or distance using standardized weight (0.7123809523809523, 0.28761904761904766) (0.6594663278271918, 0.34053367217280817)\n"
     ]
    }
   ],
   "source": [
    "print(\"The weight either uniform or distance using standardized weight\",standardized[4], standardized_weight[4])"
   ]
  },
  {
   "cell_type": "markdown",
   "metadata": {},
   "source": [
    "### The decision is to not use weights because they preform better."
   ]
  },
  {
   "cell_type": "code",
   "execution_count": 77,
   "metadata": {},
   "outputs": [
    {
     "data": {
      "text/html": [
       "<div>\n",
       "<style scoped>\n",
       "    .dataframe tbody tr th:only-of-type {\n",
       "        vertical-align: middle;\n",
       "    }\n",
       "\n",
       "    .dataframe tbody tr th {\n",
       "        vertical-align: top;\n",
       "    }\n",
       "\n",
       "    .dataframe thead th {\n",
       "        text-align: right;\n",
       "    }\n",
       "</style>\n",
       "<table border=\"1\" class=\"dataframe\">\n",
       "  <thead>\n",
       "    <tr style=\"text-align: right;\">\n",
       "      <th></th>\n",
       "      <th>alcohol</th>\n",
       "      <th>density</th>\n",
       "      <th>volatile acidity</th>\n",
       "      <th>chlorides</th>\n",
       "      <th>total sulfur dioxide</th>\n",
       "    </tr>\n",
       "  </thead>\n",
       "  <tbody>\n",
       "    <tr>\n",
       "      <th>1513</th>\n",
       "      <td>0.501792</td>\n",
       "      <td>-0.030828</td>\n",
       "      <td>-0.585335</td>\n",
       "      <td>-0.645247</td>\n",
       "      <td>0.552052</td>\n",
       "    </tr>\n",
       "    <tr>\n",
       "      <th>4748</th>\n",
       "      <td>-1.059523</td>\n",
       "      <td>1.942157</td>\n",
       "      <td>0.574937</td>\n",
       "      <td>0.177271</td>\n",
       "      <td>1.085403</td>\n",
       "    </tr>\n",
       "    <tr>\n",
       "      <th>2244</th>\n",
       "      <td>-1.388221</td>\n",
       "      <td>1.346474</td>\n",
       "      <td>0.768315</td>\n",
       "      <td>-0.125762</td>\n",
       "      <td>2.105725</td>\n",
       "    </tr>\n",
       "    <tr>\n",
       "      <th>4600</th>\n",
       "      <td>-0.319953</td>\n",
       "      <td>-0.375153</td>\n",
       "      <td>-0.585335</td>\n",
       "      <td>-0.125762</td>\n",
       "      <td>-0.491459</td>\n",
       "    </tr>\n",
       "    <tr>\n",
       "      <th>2856</th>\n",
       "      <td>1.159188</td>\n",
       "      <td>-1.359924</td>\n",
       "      <td>-0.972093</td>\n",
       "      <td>-0.515376</td>\n",
       "      <td>-0.190001</td>\n",
       "    </tr>\n",
       "    <tr>\n",
       "      <th>...</th>\n",
       "      <td>...</td>\n",
       "      <td>...</td>\n",
       "      <td>...</td>\n",
       "      <td>...</td>\n",
       "      <td>...</td>\n",
       "    </tr>\n",
       "    <tr>\n",
       "      <th>869</th>\n",
       "      <td>-0.402127</td>\n",
       "      <td>-0.409586</td>\n",
       "      <td>-0.391957</td>\n",
       "      <td>-0.385504</td>\n",
       "      <td>-0.932053</td>\n",
       "    </tr>\n",
       "    <tr>\n",
       "      <th>3902</th>\n",
       "      <td>0.666141</td>\n",
       "      <td>-1.029371</td>\n",
       "      <td>-0.585335</td>\n",
       "      <td>4.246571</td>\n",
       "      <td>-1.674106</td>\n",
       "    </tr>\n",
       "    <tr>\n",
       "      <th>4378</th>\n",
       "      <td>-1.470396</td>\n",
       "      <td>0.396136</td>\n",
       "      <td>0.333213</td>\n",
       "      <td>-0.212343</td>\n",
       "      <td>-0.259568</td>\n",
       "    </tr>\n",
       "    <tr>\n",
       "      <th>2411</th>\n",
       "      <td>-1.141698</td>\n",
       "      <td>2.314029</td>\n",
       "      <td>-0.101889</td>\n",
       "      <td>-0.039181</td>\n",
       "      <td>1.641942</td>\n",
       "    </tr>\n",
       "    <tr>\n",
       "      <th>3814</th>\n",
       "      <td>-0.237778</td>\n",
       "      <td>1.026252</td>\n",
       "      <td>0.574937</td>\n",
       "      <td>0.133981</td>\n",
       "      <td>0.273782</td>\n",
       "    </tr>\n",
       "  </tbody>\n",
       "</table>\n",
       "<p>3961 rows × 5 columns</p>\n",
       "</div>"
      ],
      "text/plain": [
       "       alcohol   density  volatile acidity  chlorides  total sulfur dioxide\n",
       "1513  0.501792 -0.030828         -0.585335  -0.645247              0.552052\n",
       "4748 -1.059523  1.942157          0.574937   0.177271              1.085403\n",
       "2244 -1.388221  1.346474          0.768315  -0.125762              2.105725\n",
       "4600 -0.319953 -0.375153         -0.585335  -0.125762             -0.491459\n",
       "2856  1.159188 -1.359924         -0.972093  -0.515376             -0.190001\n",
       "...        ...       ...               ...        ...                   ...\n",
       "869  -0.402127 -0.409586         -0.391957  -0.385504             -0.932053\n",
       "3902  0.666141 -1.029371         -0.585335   4.246571             -1.674106\n",
       "4378 -1.470396  0.396136          0.333213  -0.212343             -0.259568\n",
       "2411 -1.141698  2.314029         -0.101889  -0.039181              1.641942\n",
       "3814 -0.237778  1.026252          0.574937   0.133981              0.273782\n",
       "\n",
       "[3961 rows x 5 columns]"
      ]
     },
     "execution_count": 77,
     "metadata": {},
     "output_type": "execute_result"
    }
   ],
   "source": [
    "X_standardize"
   ]
  },
  {
   "cell_type": "markdown",
   "metadata": {},
   "source": [
    "b. Use a helper function to calculate an s-partition of the data (i.e., partition the data into s equally sized portions)"
   ]
  },
  {
   "cell_type": "code",
   "execution_count": 52,
   "metadata": {},
   "outputs": [],
   "source": [
    "def folds (X, y, s):\n",
    "    features = np.array_split(X,s)\n",
    "    labels = np.array_split(y,s)\n",
    "    return features, labels"
   ]
  },
  {
   "cell_type": "code",
   "execution_count": 69,
   "metadata": {},
   "outputs": [],
   "source": [
    "different_values = {}"
   ]
  },
  {
   "cell_type": "code",
   "execution_count": 71,
   "metadata": {},
   "outputs": [],
   "source": [
    "model_arg = dict(n_neighbor = 11, weights =\"uniform\")\n",
    "different_values[0] = model_arg\n",
    "\n",
    "model_arg = dict(n_neighbor = 9, weights =\"uniform\")\n",
    "different_values[1] = model_arg\n",
    "\n",
    "model_arg = dict(n_neighbor = 5, weights =\"uniform\")\n",
    "different_values[2] = model_arg\n",
    "\n",
    "model_arg = dict(n_neighbor = 1, weights =\"uniform\")\n",
    "different_values[3] = model_arg\n",
    "\n",
    "model_arg = dict(n_neighbor = 11, weights =\"distance\")\n",
    "different_values[4] = model_arg\n",
    "\n",
    "model_arg = dict(n_neighbor = 9, weights =\"distance\")\n",
    "different_values[5] = model_arg\n",
    "\n",
    "model_arg = dict(n_neighbor = 5, weights =\"distance\")\n",
    "different_values[6] = model_arg\n",
    "\n",
    "model_arg = dict(n_neighbor = 1, weights =\"distance\")\n",
    "different_values[7] = model_arg"
   ]
  },
  {
   "cell_type": "code",
   "execution_count": 72,
   "metadata": {},
   "outputs": [],
   "source": [
    "model_args= {0:confusion_matrix,\n",
    "             1:precision,\n",
    "             2: recall, \n",
    "             3: F1Score,\n",
    "             4: accuracy_and_error} "
   ]
  },
  {
   "cell_type": "markdown",
   "metadata": {},
   "source": [
    "18. Evaluation of an estimator performance via cross-validation: Implement the S-fold cross-validation function."
   ]
  },
  {
   "cell_type": "code",
   "execution_count": 73,
   "metadata": {},
   "outputs": [],
   "source": [
    "def sFold(k, X, y, model, model_args, model_arg, error_function):\n",
    "    KNN = KNN_Classifier()\n",
    "    KNN.fit(X, y, **model_arg)\n",
    "    Stored_dictionary_EU, Stored_dictionary_Ma = KNN.predict_folds(X,k)\n",
    "    x_fold= {}\n",
    "    every_case = {}\n",
    "    i = 0\n",
    "    while i <= (len(Stored_dictionary_EU)-1):\n",
    "        y_predEU, y_testEU, y_probEU = Stored_dictionary_EU[i]\n",
    "        y_predMa, y_testMa, y_probMa = Stored_dictionary_Ma[i]\n",
    "        x = 0\n",
    "        while x <= (len(model_args)-1):\n",
    "            Euclidean = np.round(model_args[x](y_predEU, y_testEU),4)\n",
    "            Manhatten = np.round(model_args[x](y_predMa, y_testMa),4)\n",
    "            x_fold[x] = Euclidean, Manhatten\n",
    "            x += 1\n",
    "        every_case[i] = x_fold\n",
    "        i += 1\n",
    "    return Stored_dictionary_EU, Stored_dictionary_Ma, every_case"
   ]
  },
  {
   "cell_type": "code",
   "execution_count": null,
   "metadata": {},
   "outputs": [],
   "source": [
    "Number_of_Neighrbos = [1,5,9,11]\n",
    "weights = [\"uniform\",\"distance\"]\n",
    "for neighbor in Number_of_Neighrbos:\n",
    "    for values in weights:\n",
    "        Dictionary_EU, Dictionary_Ma, Error = sFold(5, X_standardize, y, KNN_Classifier(),model_args,F1,neighbor,values)\n",
    "        Euclidean_F1 = 0\n",
    "        Manhattan_F1 = 0\n",
    "        for values in Error:\n",
    "            F1_Score = Error[values][3]\n",
    "            Euclidean_F1 += F1_Score[0]\n",
    "            Manhattan_F1 += F1_Score[1]\n",
    "        F1_Eu = ((np.sum(Euclidean_F1))/5)\n",
    "        F1_Ma = ((np.sum(Manhattan_F1))/5)\n",
    "        print(\"number of neighbors:\",neighbor, \"weight:\", values, \"F1 Score of Euclidean and Manhattan\", F1_Eu, F1_Ma)"
   ]
  },
  {
   "cell_type": "markdown",
   "metadata": {},
   "source": [
    "19. Use your sfold function to evaluate the performance of your model over each combination of k and distance metrics from the following sets"
   ]
  },
  {
   "cell_type": "markdown",
   "metadata": {},
   "source": [
    "#### below are the different versions of k, with a uniform distance. "
   ]
  },
  {
   "cell_type": "code",
   "execution_count": 68,
   "metadata": {},
   "outputs": [
    {
     "name": "stdout",
     "output_type": "stream",
     "text": [
      "Uniform\n",
      "0\n",
      "1\n",
      "2\n",
      "3\n",
      "4\n",
      "{117.3985481262207}\n"
     ]
    }
   ],
   "source": [
    "start = time.time()\n",
    "x_test, x_train, y_test, y_train = partition (X,y,0.2)\n",
    "model_args= {0:confusion_matrix,\n",
    "             1:precision,\n",
    "             2: recall, \n",
    "             3: F1Score,\n",
    "             4: accuracy_and_error} \n",
    "\n",
    "K_11_Stored_dictionary_EU, K_11_Stored_dictionary_Ma, K_11_Error = sFold(5, x_train, y_train, \n",
    "                                                                         KNN_Classifier(),\n",
    "                                                                         model_args,different_values[0],\n",
    "                                                                         F1Score)\n",
    "end = time.time()\n",
    "print({end - start})"
   ]
  },
  {
   "cell_type": "code",
   "execution_count": 74,
   "metadata": {},
   "outputs": [
    {
     "name": "stdout",
     "output_type": "stream",
     "text": [
      "Uniform\n",
      "0\n",
      "1\n",
      "2\n",
      "3\n",
      "4\n",
      "{117.21690011024475}\n"
     ]
    }
   ],
   "source": [
    "start = time.time()\n",
    "x_test, x_train, y_test, y_train = partition (X,y,0.2)\n",
    "model_args= {0:confusion_matrix,\n",
    "             1:precision,\n",
    "             2: recall, \n",
    "             3: F1Score,\n",
    "             4: accuracy_and_error} \n",
    "\n",
    "\n",
    "K_9_Stored_dictionary_EU, K_9_Stored_dictionary_Ma, K_9_Err = sFold(5, x_train, y_train,\n",
    "                                                                    KNN_Classifier(), \n",
    "                                                                    model_args,different_values[1], \n",
    "                                                                    F1Score )\n",
    "end = time.time()\n",
    "print({end - start})"
   ]
  },
  {
   "cell_type": "code",
   "execution_count": 75,
   "metadata": {},
   "outputs": [
    {
     "name": "stdout",
     "output_type": "stream",
     "text": [
      "Uniform\n",
      "0\n",
      "1\n",
      "2\n",
      "3\n",
      "4\n",
      "{116.58805179595947}\n"
     ]
    }
   ],
   "source": [
    "start = time.time()\n",
    "model_args= {0:confusion_matrix,\n",
    "             1:precision,\n",
    "             2: recall, \n",
    "             3: F1Score,\n",
    "             4: accuracy_and_error} \n",
    "K_5_Stored_dictionary_EU, K_5_Stored_dictionary_Ma, K_5_Err= sFold(5, x_train, y_train,\n",
    "                                                                    KNN_Classifier(), \n",
    "                                                                    model_args,  different_values[2],\n",
    "                                                                    F1Score)\n",
    "end = time.time()\n",
    "print({end - start})"
   ]
  },
  {
   "cell_type": "code",
   "execution_count": 76,
   "metadata": {},
   "outputs": [
    {
     "name": "stdout",
     "output_type": "stream",
     "text": [
      "Uniform\n",
      "0\n",
      "1\n",
      "2\n",
      "3\n",
      "4\n",
      "{116.264155626297}\n"
     ]
    }
   ],
   "source": [
    "\n",
    "start = time.time()\n",
    "model_args= {0:confusion_matrix,\n",
    "             1:precision,\n",
    "             2: recall, \n",
    "             3: F1Score,\n",
    "             4: accuracy_and_error} \n",
    "\n",
    "K_1_Stored_dictionary_EU, K_1_Stored_dictionary_Ma, K_1_Err =  sFold(5, x_train, y_train,\n",
    "                                                                    KNN_Classifier(), \n",
    "                                                                    model_args, different_values[3],\n",
    "                                                                    F1Score)\n",
    "end = time.time()\n",
    "print({end - start})"
   ]
  },
  {
   "cell_type": "markdown",
   "metadata": {},
   "source": [
    "#### Below are the different variations of K, with a weighted distance. "
   ]
  },
  {
   "cell_type": "code",
   "execution_count": 77,
   "metadata": {},
   "outputs": [
    {
     "name": "stdout",
     "output_type": "stream",
     "text": [
      "Distance\n",
      "0\n",
      "1\n",
      "2\n",
      "3\n",
      "4\n",
      "{116.41165256500244}\n"
     ]
    }
   ],
   "source": [
    "\n",
    "model_args= {0:confusion_matrix,\n",
    "             1:precision,\n",
    "             2: recall, \n",
    "             3: F1Score,\n",
    "             4: accuracy_and_error}  \n",
    "\n",
    "start = time.time()\n",
    "K_11_weight_Stored_dictionary_EU, K_11_weight_Stored_dictionary_Ma, K_11_weight_Err =  sFold(5, x_train, y_train,\n",
    "                                                                                             KNN_Classifier(),\n",
    "                                                                                             model_args,different_values[4],\n",
    "                                                                                             F1Score)\n",
    "end = time.time()\n",
    "print({end - start})\n",
    "\n",
    "\n"
   ]
  },
  {
   "cell_type": "code",
   "execution_count": 78,
   "metadata": {},
   "outputs": [
    {
     "name": "stdout",
     "output_type": "stream",
     "text": [
      "Distance\n",
      "0\n",
      "1\n",
      "2\n",
      "3\n",
      "4\n",
      "{116.40304398536682}\n"
     ]
    }
   ],
   "source": [
    "start = time.time()\n",
    "\n",
    "model_args= {0:confusion_matrix,\n",
    "             1:precision,\n",
    "             2: recall, \n",
    "             3: F1Score,\n",
    "             4: accuracy_and_error}  \n",
    "K_9_weight_Stored_dictionary_EU, K_9_weight_Stored_dictionary_Ma, K_9_weight_Err = sFold(5,x_train, y_train,\n",
    "                                                                                         KNN_Classifier(),\n",
    "                                                                                         model_args,different_values[5],\n",
    "                                                                                         F1Score)\n",
    "end = time.time()\n",
    "print({end - start})"
   ]
  },
  {
   "cell_type": "code",
   "execution_count": 79,
   "metadata": {},
   "outputs": [
    {
     "name": "stdout",
     "output_type": "stream",
     "text": [
      "Distance\n",
      "0\n",
      "1\n",
      "2\n",
      "3\n",
      "4\n",
      "{118.87799310684204}\n"
     ]
    }
   ],
   "source": [
    "start = time.time()\n",
    "\n",
    "model_args= {0:confusion_matrix,\n",
    "             1:precision,\n",
    "             2: recall, \n",
    "             3: F1Score,\n",
    "             4: accuracy_and_error} \n",
    "K_5_Weight_Stored_dictionary_EU, K_5_Weight_Stored_dictionary_Ma, K_5_Weight_Err = sFold(5, x_train, y_train, KNN_Classifier(),\n",
    "                                                                                         model_args, different_values[6],F1Score) \n",
    "end = time.time()\n",
    "print({end - start})"
   ]
  },
  {
   "cell_type": "code",
   "execution_count": 81,
   "metadata": {},
   "outputs": [
    {
     "name": "stdout",
     "output_type": "stream",
     "text": [
      "Distance\n",
      "0\n",
      "1\n",
      "2\n",
      "3\n",
      "4\n",
      "{116.98287534713745}\n"
     ]
    }
   ],
   "source": [
    "start = time.time()\n",
    "model_args= {0:confusion_matrix,\n",
    "             1:precision,\n",
    "             2: recall, \n",
    "             3: F1Score,\n",
    "             4: accuracy_and_error} \n",
    "\n",
    "K_1_weight_Stored_dictionary_EU, K_1_weight_Stored_dictionary_Ma, K_1_weight_Err = sFold(5, x_train, y_train, KNN_Classifier(),\n",
    "                                                                                         model_args, different_values[7],F1Score)\n",
    "end = time.time()\n",
    "print({end - start})"
   ]
  },
  {
   "cell_type": "code",
   "execution_count": 82,
   "metadata": {},
   "outputs": [],
   "source": [
    "total_errors = [K_1_weight_Err,K_5_Weight_Err,K_9_weight_Err,K_11_weight_Err,K_1_Err,K_5_Err,K_9_Err,K_11_Error]"
   ]
  },
  {
   "cell_type": "code",
   "execution_count": 85,
   "metadata": {},
   "outputs": [],
   "source": [
    "Average_F1_error = {}\n",
    "i = 0\n",
    "for values in total_errors:\n",
    "    F1_Eu = 0\n",
    "    F1_Ma = 0\n",
    "    for value in values:\n",
    "        Error = values[value]\n",
    "        F1= Error[3]\n",
    "        F1_Eu += F1[0]\n",
    "        F1_Ma += F1[1] \n",
    "    F1_Eu = np.round((F1_Eu / 5),4)\n",
    "    F1_Ma = np.round((F1_Ma / 5),4)\n",
    "    Average_F1_error[i] = F1_Eu, F1_Ma\n",
    "    i+=1\n",
    "\n"
   ]
  },
  {
   "cell_type": "markdown",
   "metadata": {},
   "source": [
    "## This is the average F1_ error scores the intervals are k[1,5,9,11] and the split is weighted and none weighted. The euclidean distance , manhattan distance."
   ]
  },
  {
   "cell_type": "markdown",
   "metadata": {},
   "source": [
    "iii. Calculate the average error (for all partitions) using the error_function on stored expected and predicted labels for all "
   ]
  },
  {
   "cell_type": "code",
   "execution_count": 86,
   "metadata": {},
   "outputs": [
    {
     "data": {
      "text/plain": [
       "{0: (0.7157, 0.722),\n",
       " 1: (0.7455, 0.7491),\n",
       " 2: (0.7461, 0.7497),\n",
       " 3: (0.7568, 0.7559),\n",
       " 4: (0.7157, 0.722),\n",
       " 5: (0.7681, 0.7678),\n",
       " 6: (0.7518, 0.7509),\n",
       " 7: (0.7491, 0.7644)}"
      ]
     },
     "execution_count": 86,
     "metadata": {},
     "output_type": "execute_result"
    }
   ],
   "source": [
    "Average_F1_error "
   ]
  },
  {
   "cell_type": "markdown",
   "metadata": {},
   "source": [
    "### It would appear that the K = 11, weight = \"uniform\", folds = 5, using the Manhattan distance metric. "
   ]
  },
  {
   "cell_type": "markdown",
   "metadata": {},
   "source": [
    "## Below are the Proformance Measures \n",
    "for the different versions of ``K[1,5,9,11]`` and Distances. The values that are given are divided based upon the number of folds, Zero through 5. As well as within each fold they're divided via the different distance either (Euclidean or Manhatten). \n",
    "\n",
    "As well as the Different weights of either uniform or distance. These values are labeled with either ``_weight``. Or they don't have any which is means they are weighted via ```\"Uniform\"```"
   ]
  },
  {
   "cell_type": "markdown",
   "metadata": {},
   "source": [
    "20. Evaluate your model on the test data and report the performance measures"
   ]
  },
  {
   "cell_type": "markdown",
   "metadata": {},
   "source": [
    "These are the readouts for each version of K and distance. This is just the first fold, but that can be changed via changing its index within the dictionary."
   ]
  },
  {
   "cell_type": "code",
   "execution_count": 87,
   "metadata": {},
   "outputs": [
    {
     "data": {
      "text/plain": [
       "{0: (array([321,  94, 139,  76]), array([331,  95, 138,  66])),\n",
       " 1: (0.6978, 0.7058),\n",
       " 2: (0.8086, 0.8338),\n",
       " 3: (0.7491, 0.7644),\n",
       " 4: (array([0.6587, 0.3413]), array([0.6762, 0.3238]))}"
      ]
     },
     "execution_count": 87,
     "metadata": {},
     "output_type": "execute_result"
    }
   ],
   "source": [
    "K_11_Error[0]"
   ]
  },
  {
   "cell_type": "code",
   "execution_count": 88,
   "metadata": {},
   "outputs": [
    {
     "data": {
      "text/plain": [
       "{0: (array([321,  97, 136,  76]), array([321,  96, 137,  76])),\n",
       " 1: (0.7024, 0.7009),\n",
       " 2: (0.8086, 0.8086),\n",
       " 3: (0.7518, 0.7509),\n",
       " 4: (array([0.6635, 0.3365]), array([0.6619, 0.3381]))}"
      ]
     },
     "execution_count": 88,
     "metadata": {},
     "output_type": "execute_result"
    }
   ],
   "source": [
    "K_9_Err[0]"
   ]
  },
  {
   "cell_type": "code",
   "execution_count": 89,
   "metadata": {},
   "outputs": [
    {
     "data": {
      "text/plain": [
       "{0: (array([323, 112, 121,  74]), array([324, 110, 123,  73])),\n",
       " 1: (0.7275, 0.7248),\n",
       " 2: (0.8136, 0.8161),\n",
       " 3: (0.7681, 0.7678),\n",
       " 4: (array([0.6905, 0.3095]), array([0.6889, 0.3111]))}"
      ]
     },
     "execution_count": 89,
     "metadata": {},
     "output_type": "execute_result"
    }
   ],
   "source": [
    "K_5_Err[0]"
   ]
  },
  {
   "cell_type": "code",
   "execution_count": 90,
   "metadata": {},
   "outputs": [
    {
     "data": {
      "text/plain": [
       "{0: (array([292, 106, 127, 105]), array([296, 106, 127, 101])),\n",
       " 1: (0.6969, 0.6998),\n",
       " 2: (0.7355, 0.7456),\n",
       " 3: (0.7157, 0.722),\n",
       " 4: (array([0.6317, 0.3683]), array([0.6381, 0.3619]))}"
      ]
     },
     "execution_count": 90,
     "metadata": {},
     "output_type": "execute_result"
    }
   ],
   "source": [
    "K_1_Err[0]"
   ]
  },
  {
   "cell_type": "code",
   "execution_count": 91,
   "metadata": {},
   "outputs": [
    {
     "data": {
      "text/plain": [
       "{0: (array([319, 106, 127,  78]), array([319, 105, 128,  78])),\n",
       " 1: (0.7152, 0.7136),\n",
       " 2: (0.8035, 0.8035),\n",
       " 3: (0.7568, 0.7559),\n",
       " 4: (array([0.6746, 0.3254]), array([0.673, 0.327]))}"
      ]
     },
     "execution_count": 91,
     "metadata": {},
     "output_type": "execute_result"
    }
   ],
   "source": [
    "K_11_weight_Err[0]"
   ]
  },
  {
   "cell_type": "code",
   "execution_count": 92,
   "metadata": {},
   "outputs": [
    {
     "data": {
      "text/plain": [
       "{0: (array([313, 104, 129,  84]), array([316, 103, 130,  81])),\n",
       " 1: (0.7081, 0.7085),\n",
       " 2: (0.7884, 0.796),\n",
       " 3: (0.7461, 0.7497),\n",
       " 4: (array([0.6619, 0.3381]), array([0.6651, 0.3349]))}"
      ]
     },
     "execution_count": 92,
     "metadata": {},
     "output_type": "execute_result"
    }
   ],
   "source": [
    "K_9_weight_Err[0]"
   ]
  },
  {
   "cell_type": "code",
   "execution_count": 93,
   "metadata": {},
   "outputs": [
    {
     "data": {
      "text/plain": [
       "{0: (array([309, 110, 123,  88]), array([312, 109, 124,  85])),\n",
       " 1: (0.7153, 0.7156),\n",
       " 2: (0.7783, 0.7859),\n",
       " 3: (0.7455, 0.7491),\n",
       " 4: (array([0.6651, 0.3349]), array([0.6683, 0.3317]))}"
      ]
     },
     "execution_count": 93,
     "metadata": {},
     "output_type": "execute_result"
    }
   ],
   "source": [
    "K_5_Weight_Err[0]"
   ]
  },
  {
   "cell_type": "code",
   "execution_count": 94,
   "metadata": {},
   "outputs": [
    {
     "data": {
      "text/plain": [
       "{0: (array([292, 106, 127, 105]), array([296, 106, 127, 101])),\n",
       " 1: (0.6969, 0.6998),\n",
       " 2: (0.7355, 0.7456),\n",
       " 3: (0.7157, 0.722),\n",
       " 4: (array([0.6317, 0.3683]), array([0.6381, 0.3619]))}"
      ]
     },
     "execution_count": 94,
     "metadata": {},
     "output_type": "execute_result"
    }
   ],
   "source": [
    "K_1_weight_Err[0]"
   ]
  },
  {
   "cell_type": "markdown",
   "metadata": {},
   "source": [
    "The K score of 11, non weighted, using the Euclidean Distance is provides the better results. ```K_11_Stored_dictionary_EU, K_11_Stored_dictionary_Ma, K_11_Error```"
   ]
  },
  {
   "cell_type": "markdown",
   "metadata": {},
   "source": [
    "20. Evaluate your model on the test data and report the performance measures"
   ]
  },
  {
   "cell_type": "code",
   "execution_count": 99,
   "metadata": {},
   "outputs": [
    {
     "data": {
      "text/plain": [
       "{0: (0.7157, 0.722),\n",
       " 1: (0.7455, 0.7491),\n",
       " 2: (0.7461, 0.7497),\n",
       " 3: (0.7568, 0.7559),\n",
       " 4: (0.7157, 0.722),\n",
       " 5: (0.7681, 0.7678),\n",
       " 6: (0.7518, 0.7509),\n",
       " 7: (0.7491, 0.7644)}"
      ]
     },
     "execution_count": 99,
     "metadata": {},
     "output_type": "execute_result"
    }
   ],
   "source": [
    "Average_F1_error "
   ]
  },
  {
   "cell_type": "markdown",
   "metadata": {},
   "source": [
    "|F1 Scores|Euclidean Weighted|Manhattan Weighted|Euclidean|Manhattan|\n",
    "|:---:|:---:|:---:|:---:|:---:|\n",
    "|**K=1**|0.7157| 0.722|0.7157| 0.722|   \n",
    "|**K=5**|0.7455| 0.7491|0.7681| **0.7678**|\n",
    "|**K=9**|0.7461| 0.7497|0.7518| 0.7509| \n",
    "|**K=11**|0.7568| 0.7559|0.7491| 0.7644 |  "
   ]
  },
  {
   "cell_type": "markdown",
   "metadata": {},
   "source": [
    "|Precision|Euclidean Weighted|Manhattan Weighted|Euclidean|Manhattan|\n",
    "|:---:|:---:|:---:|:---:|:---:|\n",
    "|**K=1**| 0.6969| 0.6998 | 0.6969| 0.6998 | \n",
    "|**K=5**| 0.7153| 0.7156 | 0.7275| **0.7248** | \n",
    "|**K=9**| 0.7081| 0.7085 | 0.7024| 0.7009 |  \n",
    "|**K=11**| 0.7152| 0.7136 | 0.6978| 0.7058 | "
   ]
  },
  {
   "cell_type": "markdown",
   "metadata": {},
   "source": [
    "|Recall|Euclidean Weighted|Manhattan Weighted|Euclidean|Manhattan|\n",
    "|:---:|:---:|:---:|:---:|:---:|\n",
    "|**K=1**| 0.7355| 0.7456 | 0.7355| 0.7456 | \n",
    "|**K=5**| 0.7783| 0.7859| 0.8136| **0.8161** | \n",
    "|**K=9**| 0.7884| 0.796 | 0.8086| 0.8086 |  \n",
    "|**K=11**| 0.8035| 0.8035 | 0.8086| 0.8338 | "
   ]
  },
  {
   "cell_type": "markdown",
   "metadata": {},
   "source": [
    "|Accuracy, Error|Euclidean Weighted|Manhattan Weighted|Euclidean|Manhattan|\n",
    "|:---:|:---:|:---:|:---:|:---:|\n",
    "|**K=1**|0.6317, 0.3683 | 0.6381, 0.3619 |0.6317, 0.3683|0.6381, 0.3619| \n",
    "|**K=5**| 0.6651, 0.3349 | 0.6683, 0.3317 |**0.6905, 0.3095**|0.6889, 0.3111| \n",
    "|**K=9**| 0.6619, 0.3381 | 0.6651, 0.3349 |0.6635, 0.3365|0.6619, 0.3381|  \n",
    "|**K=11**| 0.6746, 0.3254 | 0.673, 0.327 |0.6587, 0.3413|0.6762, 0.3238| "
   ]
  },
  {
   "cell_type": "markdown",
   "metadata": {},
   "source": [
    "# Generating the ROC curve and Determining the optimal"
   ]
  },
  {
   "cell_type": "markdown",
   "metadata": {},
   "source": [
    "21. Generate the ROC curve and determine the optimal threshold. This will go in your report."
   ]
  },
  {
   "cell_type": "code",
   "execution_count": 102,
   "metadata": {},
   "outputs": [],
   "source": [
    "# These functions i've made just so that i won't have write out the line of code over \n",
    "# and over in order to determine the threshold. As well as it's very handy to have around.\n",
    "def Mean_Absolute_Error(a,b):\n",
    "    test = np.abs(a - b)\n",
    "    test = sum(test)\n",
    "    MAE = test / (len(a))\n",
    "    return MAE  \n",
    "def predict_threshold (a,b):\n",
    "    if b == 1:\n",
    "        return np.where((a <= b),0,1)\n",
    "    elif b == 0:\n",
    "        return np.where((a >= b),1,0)\n",
    "    else:\n",
    "        return np.where((a > b),1,0)\n",
    "def FalsePostiveRate(a,b):\n",
    "    TP , TN , FP ,FN = confusion_matrix(a,b)\n",
    "    if FP + TN == 0:\n",
    "        return 0\n",
    "    else:\n",
    "        return (FP / (FP+TN))"
   ]
  },
  {
   "cell_type": "code",
   "execution_count": 131,
   "metadata": {},
   "outputs": [
    {
     "name": "stdout",
     "output_type": "stream",
     "text": [
      "Uniform\n",
      "0\n",
      "1\n",
      "2\n",
      "3\n",
      "4\n",
      "{184.71270632743835}\n"
     ]
    }
   ],
   "source": [
    "start = time.time()\n",
    "model_args= {0:confusion_matrix,\n",
    "             1:precision,\n",
    "             2: recall, \n",
    "             3: F1Score,\n",
    "             4: accuracy_and_error} \n",
    "\n",
    "Optimal_Model_Eu, Optimal_Model_Ma, Optimal_Model_Error =  sFold(5, X_standardize, y,\n",
    "                                                                    KNN_Classifier(), \n",
    "                                                                    model_args, different_values[2],\n",
    "                                                                    F1Score)\n",
    "end = time.time()\n",
    "print({end - start})"
   ]
  },
  {
   "cell_type": "code",
   "execution_count": 133,
   "metadata": {},
   "outputs": [
    {
     "data": {
      "text/plain": [
       "{0: (array([426, 151, 141,  69]), array([423, 146, 146,  72])),\n",
       " 1: (0.7513, 0.7434),\n",
       " 2: (0.8606, 0.8545),\n",
       " 3: (0.8023, 0.7951),\n",
       " 4: (array([0.7332, 0.2668]), array([0.723, 0.277]))}"
      ]
     },
     "execution_count": 133,
     "metadata": {},
     "output_type": "execute_result"
    }
   ],
   "source": [
    "Optimal_Model_Error[0]"
   ]
  },
  {
   "cell_type": "code",
   "execution_count": 147,
   "metadata": {},
   "outputs": [
    {
     "data": {
      "image/png": "[encoded data removed]",
      "text/plain": [
       "<Figure size 432x288 with 1 Axes>"
      ]
     },
     "metadata": {
      "needs_background": "light"
     },
     "output_type": "display_data"
    }
   ],
   "source": [
    "thresholds = list(np.array(list(range(0,105,5)))/100) \n",
    "Curves = ROC_Curve(Optimal_Model_Ma, thresholds)\n",
    "Area_Under_The_Curve = Area_Under_Curve(Curves)\n",
    "import matplotlib.pyplot as plt\n",
    "optimal_thresholds = []\n",
    "for values in Curves:\n",
    "    roc_curve = pd.DataFrame(Curves[values], columns = [\"x\",\"y\"])\n",
    "    j = roc_curve.y - roc_curve.x\n",
    "    optimal_threshold_roc = np.argmax(j)\n",
    "    optimal_threshold_ = thresholds[optimal_threshold_roc]\n",
    "    optimal_thresholds.append(optimal_threshold_)\n",
    "    plt.plot(roc_curve.x, roc_curve.y) \n",
    "    plt.title(\"Area Under the Curve\")\n",
    "    plt.ylabel('True Postive Rate')\n",
    "    plt.xlabel('False Postive Rate')\n",
    "    plt.plot([0,1])"
   ]
  },
  {
   "cell_type": "code",
   "execution_count": 148,
   "metadata": {},
   "outputs": [
    {
     "name": "stdout",
     "output_type": "stream",
     "text": [
      "optimal threshold value is  0.56\n"
     ]
    }
   ],
   "source": [
    "optimal_threshold_value = (np.sum(optimal_thresholds))/5\n",
    "print(\"optimal threshold value is \" , optimal_threshold_value)"
   ]
  },
  {
   "cell_type": "markdown",
   "metadata": {},
   "source": [
    "### Optimal threshold value for the ROC is 0.63"
   ]
  },
  {
   "cell_type": "markdown",
   "metadata": {},
   "source": [
    "## Compute The AUC Score\n"
   ]
  },
  {
   "cell_type": "markdown",
   "metadata": {},
   "source": [
    "22. Compute the AUC score"
   ]
  },
  {
   "cell_type": "code",
   "execution_count": 198,
   "metadata": {},
   "outputs": [
    {
     "data": {
      "text/plain": [
       "[0.7479688283346604,\n",
       " 0.7282020640956002,\n",
       " 0.7635218499501311,\n",
       " 0.7679184746505349,\n",
       " 0.748055901480559]"
      ]
     },
     "execution_count": 198,
     "metadata": {},
     "output_type": "execute_result"
    }
   ],
   "source": [
    "(Area_Under_Curve(Curves))"
   ]
  },
  {
   "cell_type": "markdown",
   "metadata": {},
   "source": [
    "## Precision_Recall_Curve"
   ]
  },
  {
   "cell_type": "markdown",
   "metadata": {},
   "source": [
    "23. Generate the precision-recall curve and determine the optimal threshold."
   ]
  },
  {
   "cell_type": "code",
   "execution_count": 194,
   "metadata": {},
   "outputs": [
    {
     "data": {
      "image/png": "[encoded data removed]",
      "text/plain": [
       "<Figure size 432x288 with 1 Axes>"
      ]
     },
     "metadata": {
      "needs_background": "light"
     },
     "output_type": "display_data"
    }
   ],
   "source": [
    "PR_Curve = Precision_Recall_Curve(Optimal_Model_Ma, thresholds)\n",
    "for values in PR_Curve:\n",
    "    curve = PR_Curve[values]\n",
    "    pr_curve = pd.DataFrame(curve, columns = [\"Recall\",\"Precision\"])\n",
    "    f = ((( 2 * (pr_curve.Recall * pr_curve.Precision))) / ((pr_curve.Recall + pr_curve.Precision)))\n",
    "    optimal_recall_curve = (np.argmax(f))/100\n",
    "    optimal_Precision_recall_curve.append(optimal_recall_curve)\n",
    "    pr_curve['thresholds'] = thresholds\n",
    "    plt.plot(pr_curve.thresholds, pr_curve.Recall, 'b') \n",
    "    plt.plot(pr_curve.thresholds, pr_curve.Precision, 'r')\n",
    "    plt.title(\"Precision Recall Curve\")\n",
    "    plt.xlabel('Threshold')\n",
    "    "
   ]
  },
  {
   "cell_type": "code",
   "execution_count": 196,
   "metadata": {},
   "outputs": [],
   "source": [
    "differences = []\n",
    "optimal_thresholds = []\n",
    "for x in PR_Curve[0]:\n",
    "    difference = np.abs(x[0] - x[1])\n",
    "    differences.append(difference)\n",
    "for values in differences:\n",
    "    optimal_threshold = np.argsort(differences)[:5]\n",
    "    threshold = np.sum((optimal_threshold/20))/5\n",
    "    optimal_thresholds.append(threshold)"
   ]
  },
  {
   "cell_type": "code",
   "execution_count": 197,
   "metadata": {},
   "outputs": [
    {
     "name": "stdout",
     "output_type": "stream",
     "text": [
      "optimal threshold for precision recall curve is 0.58\n"
     ]
    }
   ],
   "source": [
    "optimal_precision_recall_threshold = (np.sum(optimal_thresholds)/ len(optimal_thresholds))\n",
    "print(\"optimal threshold for precision recall curve is\", optimal_precision_recall_threshold)"
   ]
  },
  {
   "cell_type": "markdown",
   "metadata": {},
   "source": [
    "### The optimal threshold for the precision curve is 0.58"
   ]
  },
  {
   "cell_type": "markdown",
   "metadata": {},
   "source": [
    "## Classification Error of 95%"
   ]
  },
  {
   "cell_type": "markdown",
   "metadata": {},
   "source": [
    "24. Calculate and report the 95% confidence interval on the generalization error estimate."
   ]
  },
  {
   "cell_type": "code",
   "execution_count": 202,
   "metadata": {},
   "outputs": [],
   "source": [
    "CI_Error_Storage = {}\n",
    "for values in Optimal_Model_Ma:\n",
    "    Fold = Optimal_Model_Ma[values]\n",
    "    y_prob = Fold[2]\n",
    "    y_test = Fold[1]\n",
    "    size_of_sample = y_test.shape[0]\n",
    "    y_prediction = predict_threshold(y_prob, .6) #a is the threshold we decided on last\n",
    "    accuracy, error = accuracy_and_error(y_prediction, y_test)\n",
    "    Standard_error = (1.96 *( np.sqrt((error *(1-error))/size_of_sample)))\n",
    "    CI_lower = np.round((error - Standard_error),4)\n",
    "    CI_upper = np.round((error + Standard_error),4)\n",
    "    CI_Error_Storage[values] = CI_lower,CI_upper"
   ]
  },
  {
   "cell_type": "markdown",
   "metadata": {},
   "source": [
    "|Confidence Interval 95%|Lower Bounds|Upper Bounds|\n",
    "|:---:|:---:|:---:|\n",
    "|**Fold 1**| 0.2823| 0.3471 |\n",
    "|**Fold 2**| 0.3207| 0.3875 |\n",
    "|**Fold 3**| 0.2835| 0.3485 |\n",
    "|**Fold 4**| 0.2531| 0.3162 |  \n",
    "|**Fold 5**| 0.2740| 0.3384 |"
   ]
  },
  {
   "cell_type": "code",
   "execution_count": 204,
   "metadata": {},
   "outputs": [
    {
     "data": {
      "text/plain": [
       "{0: (0.2823, 0.3471),\n",
       " 1: (0.3207, 0.3875),\n",
       " 2: (0.2835, 0.3485),\n",
       " 3: (0.2531, 0.3162),\n",
       " 4: (0.274, 0.3384)}"
      ]
     },
     "execution_count": 204,
     "metadata": {},
     "output_type": "execute_result"
    }
   ],
   "source": [
    "CI_Error_Storage"
   ]
  },
  {
   "cell_type": "code",
   "execution_count": null,
   "metadata": {},
   "outputs": [],
   "source": []
  }
 ],
 "metadata": {
  "kernelspec": {
   "display_name": "Python 3",
   "language": "python",
   "name": "python3"
  },
  "language_info": {
   "codemirror_mode": {
    "name": "ipython",
    "version": 3
   },
   "file_extension": ".py",
   "mimetype": "text/x-python",
   "name": "python",
   "nbconvert_exporter": "python",
   "pygments_lexer": "ipython3",
   "version": "3.8.5"
  }
 },
 "nbformat": 4,
 "nbformat_minor": 4
}
